{
 "cells": [
  {
   "cell_type": "code",
   "execution_count": null,
   "metadata": {},
   "outputs": [],
   "source": [
    "a =float(input(\"Enter a floating point number: \")) \n",
    "print(\"\")\n",
    "b =int(input(\"Enter an integer: \")) \n",
    "print(\"\")\n",
    "print(\"The sum is\", a+b)\n",
    "print(\"\")\n",
    "print(\"The difference is\", a-b)\n",
    "print(\"\")\n",
    "print(\"The product is\", a*b)\n",
    "print(\"\")\n",
    "print(\"The quotient is\", a/b)\n",
    "print(\"\")\n",
    "print(\"The type for the result is\", type(a+b))"
   ]
  },
  {
   "cell_type": "code",
   "execution_count": null,
   "metadata": {},
   "outputs": [],
   "source": []
  }
 ],
 "metadata": {
  "kernelspec": {
   "display_name": "Python 3",
   "language": "python",
   "name": "python3"
  },
  "language_info": {
   "codemirror_mode": {
    "name": "ipython",
    "version": 3
   },
   "file_extension": ".py",
   "mimetype": "text/x-python",
   "name": "python",
   "nbconvert_exporter": "python",
   "pygments_lexer": "ipython3",
   "version": "3.8.3"
  }
 },
 "nbformat": 4,
 "nbformat_minor": 4
}
